{
 "metadata": {
  "name": ""
 },
 "nbformat": 3,
 "nbformat_minor": 0,
 "worksheets": [
  {
   "cells": [
    {
     "cell_type": "markdown",
     "metadata": {},
     "source": [
      "# AnyBody magic in IPython Notebooks\n",
      "******\n",
      "\n",
      "The _anybodymagic_ extension for IPython will run AnyBody macro commands directly from the IPython Notebook. This is a very easy way to work with the AnyBody console application.\n",
      "\n",
      "### Requirements\n",
      "The [AnyBody Modeling System](www.anybodytech.com) must be installed on the computer for this extension to work. \n",
      "\n",
      "###Installation and requirements\n",
      "The extension is installed directly from github with the `%install_ext` command."
     ]
    },
    {
     "cell_type": "code",
     "collapsed": false,
     "input": [
      "%install_ext https://raw.github.com/melund/anybodymagic/master/anybodymagic.py"
     ],
     "language": "python",
     "metadata": {},
     "outputs": [
      {
       "output_type": "stream",
       "stream": "stdout",
       "text": [
        "Installed anybodymagic.py. To use it, type:\n",
        "  %load_ext anybodymagic\n"
       ]
      }
     ],
     "prompt_number": 1
    },
    {
     "cell_type": "markdown",
     "metadata": {},
     "source": [
      "###Usage\n",
      "When the extension is installed, it can be loaded with the `%load_ext` command."
     ]
    },
    {
     "cell_type": "code",
     "collapsed": false,
     "input": [
      "%load_ext anybodymagic"
     ],
     "language": "python",
     "metadata": {},
     "outputs": [],
     "prompt_number": 24
    },
    {
     "cell_type": "markdown",
     "metadata": {},
     "source": [
      "Anybody macro commands are executed with the `%%anybody` cell magic. The remaining cell is passed directly to AnyBody as macro commands\n",
      "\n",
      "Here is an example "
     ]
    },
    {
     "cell_type": "code",
     "collapsed": false,
     "input": [
      "%%anybody\n",
      "load \"Knee.any\"\n",
      "operation Main.MyStudy.InverseDynamics\n",
      "run\n",
      "exit"
     ],
     "language": "python",
     "metadata": {},
     "outputs": [
      {
       "html": [
        "<div id=\"anyscriptbox_DPYUOA\" style=\"height: 120px ; width : auto; border:1px dotted black;padding:0.5em;overflow:auto;background-color:#E0E0E0 ; font:3px Geogia\"><font size=\"2px\" face=\"courier\"> \r\n",
        "<br/>AnyBody Console Application\r\n",
        "<br/>AnyBodyCon.exe version : 6. 0. 2. 4052 (64-bit version) \r",
        "\r\n",
        "<br/>Build : 16009.55980\r\n",
        "<br/>Copyright (c) 1999 - 2014 AnyBody Technology A/S\r\n",
        "<br/>\r\n",
        "<br/>\r\n",
        "<br/>Current path: C:\\Users\\Morten\\Documents\\GitHub\\anybodymagic\r\n",
        "<br/>\r\n",
        "<br/>#### Macro command > load \"Knee.any\"\r\n",
        "<br/>Loading  Main  :  \"C:\\Users\\Morten\\Documents\\GitHub\\anybodymagic\\Knee.any\"\r\n",
        "<br/>Scanning...\r\n",
        "<br/>Parsing...\r\n",
        "<br/>Constructing model tree...\r\n",
        "<br/>Linking identifiers...\r\n",
        "<br/>Evaluating constants...\r\n",
        "<br/>Configuring model...\r\n",
        "<br/>Evaluating model...\r\n",
        "<br/>Loaded successfully.\r\n",
        "<br/>Elapsed Time : 0.063000\r\n",
        "<br/>\r\n",
        "<br/>#### Macro command > operation Main.MyStudy.InverseDynamics\r\n",
        "<br/>\r\n",
        "<br/>#### Macro command > run\r\n",
        "<br/>\r\n",
        "<br/>***************************************************************************************\r\n",
        "<br/>0) InverseDynamics (Operation: Main.MyStudy.InverseDynamics): \r\n",
        "<br/>0.0) PreOperation (Operation: Main.MyStudy.InverseDynamics.PreOperation): \r\n",
        "<br/>0.0.0) InitialConditions (Operation: Main.MyStudy.InitialConditions): \r\n",
        "<br/>0.0.0) ...Design variables have been updated.\r\n",
        "<br/>0.0.1) ...Load-time positions have been re-established.\r\n",
        "<br/>0.0.2) ...Kinematic analysis completed. The kinematic constraints have been resolved.\r\n",
        "<br/>0.0.3) ...Initial conditions are fully updated.\r\n",
        "<br/>0) Inverse dynamic analysis...\r\n",
        "<br/>29) ...Inverse dynamic analysis completed\r\n",
        "<br/>Total simulation time: 0.039\r\n",
        "<br/>\r\n",
        "<br/>***************************************************************************************\r\n",
        "<br/>\r\n",
        "<br/>#### Macro command > exit\r\n",
        "<br/>\r\n",
        "<br/>Closing model...\r\n",
        "<br/>Saving modified values...\r\n",
        "<br/>Deleting last loaded model...\r\n",
        "<br/>...Model deleted.\r\n",
        " </font></div> <script> var myDiv = document.getElementById(\"anyscriptbox_DPYUOA\");\n",
        "            myDiv.scrollTop = myDiv.scrollHeight;</script> "
       ],
       "metadata": {},
       "output_type": "display_data",
       "text": [
        "<IPython.core.display.HTML at 0x7851860>"
       ]
      }
     ],
     "prompt_number": 25
    },
    {
     "cell_type": "markdown",
     "metadata": {},
     "source": [
      "### Options:\n",
      "\n",
      "The cell magic has a few options, which are given on the same line eg. `%%anybody --out consoleoutput`\n",
      "\n",
      "**`--dir c:/workdir `**  \n",
      "&nbsp;&nbsp; Changes the current directory\n",
      "\n",
      "**`--out consoleoutput `**  \n",
      "&nbsp;&nbsp; Stores the console output to `consoleoutput`\n",
      "\n",
      "** `--bg`**  \n",
      "&nbsp;&nbsp; Run the macro commands in a background process. In this case the `-out` command will give a PIPE to console output.\n",
      "\n",
      "** `--dump`**  \n",
      "&nbsp;&nbsp; Exports variables to the Notebook name space\n"
     ]
    },
    {
     "cell_type": "markdown",
     "metadata": {},
     "source": [
      "### Examples:\n"
     ]
    },
    {
     "cell_type": "code",
     "collapsed": false,
     "input": [
      "%%anybody --dir C:/Users/Morten/Desktop --dump\n",
      "load \"Knee.any\"\n",
      "operation Main.MyStudy.InverseDynamics\n",
      "run\n",
      "classoperation Main.MyStudy.Output.Abscissa.t \"Dump\"\n",
      "classoperation Main.MyStudy.Output.MaxMuscleActivity \"Dump\"\n",
      "exit"
     ],
     "language": "python",
     "metadata": {},
     "outputs": [
      {
       "html": [
        "<div id=\"anyscriptbox_QUIYSB\" style=\"height: 120px ; width : auto; border:1px dotted black;padding:0.5em;overflow:auto;background-color:#E0E0E0 ; font:3px Geogia\"><font size=\"2px\" face=\"courier\"> \r\n",
        "<br/>AnyBody Console Application\r\n",
        "<br/>AnyBodyCon.exe version : 6. 0. 2. 4052 (64-bit version) \r",
        "\r\n",
        "<br/>Build : 16009.55980\r\n",
        "<br/>Copyright (c) 1999 - 2014 AnyBody Technology A/S\r\n",
        "<br/>\r\n",
        "<br/>\r\n",
        "<br/>Current path: C:\\Users\\Morten\\Desktop\r\n",
        "<br/>\r\n",
        "<br/>#### Macro command > load \"Knee.any\"\r\n",
        "<br/>Loading  Main  :  \"C:\\Users\\Morten\\Desktop\\Knee.any\"\r\n",
        "<br/>Scanning...\r\n",
        "<br/>Parsing...\r\n",
        "<br/>Constructing model tree...\r\n",
        "<br/>Linking identifiers...\r\n",
        "<br/>Evaluating constants...\r\n",
        "<br/>Configuring model...\r\n",
        "<br/>Evaluating model...\r\n",
        "<br/>Loaded successfully.\r\n",
        "<br/>Elapsed Time : 0.053000\r\n",
        "<br/>\r\n",
        "<br/>#### Macro command > operation Main.MyStudy.InverseDynamics\r\n",
        "<br/>\r\n",
        "<br/>#### Macro command > run\r\n",
        "<br/>\r\n",
        "<br/>***************************************************************************************\r\n",
        "<br/>0) InverseDynamics (Operation: Main.MyStudy.InverseDynamics): \r\n",
        "<br/>0.0) PreOperation (Operation: Main.MyStudy.InverseDynamics.PreOperation): \r\n",
        "<br/>0.0.0) InitialConditions (Operation: Main.MyStudy.InitialConditions): \r\n",
        "<br/>0.0.0) ...Design variables have been updated.\r\n",
        "<br/>0.0.1) ...Load-time positions have been re-established.\r\n",
        "<br/>0.0.2) ...Kinematic analysis completed. The kinematic constraints have been resolved.\r\n",
        "<br/>0.0.3) ...Initial conditions are fully updated.\r\n",
        "<br/>0) Inverse dynamic analysis...\r\n",
        "<br/>29) ...Inverse dynamic analysis completed\r\n",
        "<br/>Total simulation time: 0.037\r\n",
        "<br/>\r\n",
        "<br/>***************************************************************************************\r\n",
        "<br/>\r\n",
        "<br/>#### Macro command > classoperation Main.MyStudy.Output.Abscissa.t \"Dump\"\r\n",
        "<br/>Main.MyStudy.Output.Abscissa.t = {0, 0.034482759, 0.068965517, 0.10344828, 0.13793103, 0.17241379, 0.20689655, 0.24137931, 0.27586207, 0.31034483, 0.34482759, 0.37931034, 0.4137931, 0.44827586, 0.48275862, 0.51724138, 0.55172414, 0.5862069, 0.62068966, 0.65517241, 0.68965517, 0.72413793, 0.75862069, 0.79310345, 0.82758621, 0.86206897, 0.89655172, 0.93103448, 0.96551724, 1};\r\n",
        "<br/>\r\n",
        "<br/>#### Macro command > classoperation Main.MyStudy.Output.MaxMuscleActivity \"Dump\"\r\n",
        "<br/>Main.MyStudy.Output.MaxMuscleActivity = {0.092329631, 0.093433752, 0.094336643, 0.095018911, 0.095461541, 0.095646103, 0.095554997, 0.0951717, 0.094481003, 0.093469228, 0.092124436, 0.090436596, 0.088397719, 0.086001951, 0.083245609, 0.08012716, 0.076647135, 0.072807963, 0.068613732, 0.064069855, 0.059182649, 0.053958793, 0.048404686, 0.04252565, 0.036324981, 0.029802794, 0.022954611, 0.015769599, 0.0082283486, 0.00029996798};\r\n",
        "<br/>\r\n",
        "<br/>#### Macro command > exit\r\n",
        "<br/>\r\n",
        "<br/>Closing model...\r\n",
        "<br/>Saving modified values...\r\n",
        "<br/>Deleting last loaded model...\r\n",
        "<br/>...Model deleted.\r\n",
        " </font></div> <script> var myDiv = document.getElementById(\"anyscriptbox_QUIYSB\");\n",
        "            myDiv.scrollTop = myDiv.scrollHeight;</script> "
       ],
       "metadata": {},
       "output_type": "display_data",
       "text": [
        "<IPython.core.display.HTML at 0x7851860>"
       ]
      },
      {
       "output_type": "stream",
       "stream": "stdout",
       "text": [
        "Dumped variables:\n",
        "- Main_MyStudy_Output_Abscissa_t\n",
        "- Main_MyStudy_Output_MaxMuscleActivity\n"
       ]
      }
     ],
     "prompt_number": 26
    },
    {
     "cell_type": "markdown",
     "metadata": {},
     "source": [
      "The dump'ed variables are now avaiable directly in the Notebook. So let us plot them:"
     ]
    },
    {
     "cell_type": "code",
     "collapsed": false,
     "input": [
      "plot(Main_MyStudy_Output_Abscissa_t, Main_MyStudy_Output_MaxMuscleActivity)\n",
      "xlabel('time')\n",
      "ylabel('Max muscle activity')"
     ],
     "language": "python",
     "metadata": {},
     "outputs": [
      {
       "metadata": {},
       "output_type": "pyout",
       "prompt_number": 14,
       "text": [
        "<matplotlib.text.Text at 0x7698d68>"
       ]
      },
      {
       "metadata": {},
       "output_type": "display_data",
       "png": "[encoded data removed]",
       "text": [
        "<matplotlib.figure.Figure at 0x7692908>"
       ]
      }
     ],
     "prompt_number": 14
    },
    {
     "cell_type": "markdown",
     "metadata": {},
     "source": [
      "The -bg command will excute the cell in a background process. "
     ]
    },
    {
     "cell_type": "code",
     "collapsed": false,
     "input": [
      "%%anybody --bg --out outpipe\n",
      "load \"Knee.any\"\n",
      "operation Main.MyStudy.InverseDynamics\n",
      "run\n",
      "classoperation Main.MyStudy.Output.Abscissa.t \"Dump\"\n",
      "classoperation Main.MyStudy.Output.MaxMuscleActivity \"Dump\"\n",
      "run\n",
      "exit"
     ],
     "language": "python",
     "metadata": {},
     "outputs": [
      {
       "output_type": "stream",
       "stream": "stdout",
       "text": [
        "Starting job # 2 in a separate thread.\n"
       ]
      }
     ],
     "prompt_number": 17
    },
    {
     "cell_type": "code",
     "collapsed": false,
     "input": [
      "lines = outpipe.readlines()\n",
      "print \"\".join(lines[-10:])"
     ],
     "language": "python",
     "metadata": {},
     "outputs": [
      {
       "output_type": "stream",
       "stream": "stdout",
       "text": [
        "Total simulation time: 0.018\r\n",
        "\r\n",
        "***************************************************************************************\r\n",
        "\r\n",
        "#### Macro command > exit\r\n",
        "\r\n",
        "Closing model...\r\n",
        "Saving modified values...\r\n",
        "Deleting last loaded model...\r\n",
        "...Model deleted.\r\n",
        "\n"
       ]
      }
     ],
     "prompt_number": 18
    },
    {
     "cell_type": "code",
     "collapsed": false,
     "input": [],
     "language": "python",
     "metadata": {},
     "outputs": []
    }
   ],
   "metadata": {}
  }
 ]
}