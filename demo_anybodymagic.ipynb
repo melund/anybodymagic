{
 "metadata": {
  "name": "demo_anybodymagic"
 },
 "nbformat": 3,
 "nbformat_minor": 0,
 "worksheets": [
  {
   "cells": [
    {
     "cell_type": "markdown",
     "metadata": {},
     "source": [
      "# AnyBody magic in IPython Notebooks\n",
      "******\n",
      "\n",
      "The anybodymagic extension for IPython will run AnyBody macro commands directly from the IPython Notebook. \n",
      "\n",
      "This is a very easy way to work with the AnyBody console application.\n",
      "\n",
      "### Requirements\n",
      "The [AnyBody Modeling System](www.anybodytech.com) must be installed on the computer for this extension to work. \n",
      "\n",
      "###Installation and requirements\n",
      "The extension is intalled directly from github with the `%install_ext` command."
     ]
    },
    {
     "cell_type": "code",
     "collapsed": false,
     "input": [
      "%install_ext https://raw.github.com/melund/anybodymagic/master/anybodymagic.py"
     ],
     "language": "python",
     "metadata": {},
     "outputs": [
      {
       "output_type": "stream",
       "stream": "stdout",
       "text": [
        "Installed anybodymagic.py. To use it, type:\n",
        "  %load_ext anybodymagic\n"
       ]
      }
     ],
     "prompt_number": 25
    },
    {
     "cell_type": "markdown",
     "metadata": {},
     "source": [
      "###Usage\n",
      "When the extension is installed it can be loaded with the `%load_ext` command."
     ]
    },
    {
     "cell_type": "code",
     "collapsed": false,
     "input": [
      "%load_ext anybodymagic"
     ],
     "language": "python",
     "metadata": {},
     "outputs": [],
     "prompt_number": 26
    },
    {
     "cell_type": "markdown",
     "metadata": {},
     "source": [
      "Anybody macro commands are executed with the `%%anybody` cell magic. The remaining cell is passed directly to AnyBody as macro commands\n",
      "\n",
      "Here is an example "
     ]
    },
    {
     "cell_type": "code",
     "collapsed": false,
     "input": [
      "%%anybody\n",
      "load \"D:/Users/Morten/Desktop/Knee.any\"\n",
      "operation Main.MyStudy.InverseDynamics\n",
      "run\n",
      "exit"
     ],
     "language": "python",
     "metadata": {},
     "outputs": [
      {
       "output_type": "stream",
       "stream": "stdout",
       "text": [
        "\n",
        "AnyBody Console Application\n",
        "Edition Name : Beta (Internal version)\n",
        "AnyBodyCon.exe version : 6. 0. 0. 3723\n",
        "Build : 15839.38520 (beta)\n",
        "Copyright (c) 1999 - 2013 AnyBody Technology A/S\n",
        "\n"
       ]
      },
      {
       "output_type": "stream",
       "stream": "stdout",
       "text": [
        "\n",
        "Current path: D:\\Users\\Morten\\Google Drive\\Phd\\Python Notebooks\n"
       ]
      },
      {
       "output_type": "stream",
       "stream": "stdout",
       "text": [
        "\n",
        "#### Macro command > load \"D:/Users/Morten/Desktop/Knee.any\"\n",
        "Loading  Main  :  \"D:\\Users\\Morten\\Desktop\\Knee.any\"\n",
        "Scanning...\n",
        "Parsing...\n",
        "Constructing model tree...\n",
        "Linking identifiers...\n",
        "Evaluating constants...\n",
        "Configuring model...\n",
        "Evaluating model...\n",
        "Loaded successfully.\n",
        "Elapsed Time : 0.021000\n"
       ]
      },
      {
       "output_type": "stream",
       "stream": "stdout",
       "text": [
        "\n",
        "#### Macro command > operation Main.MyStudy.InverseDynamics\n",
        "\n",
        "#### Macro command > run\n",
        "\n",
        "***************************************************************************************\n",
        "0) InverseDynamics (Operation: Main.MyStudy.InverseDynamics):\n",
        "0.0) PreOperation (Operation: Main.MyStudy.InverseDynamics.PreOperation):\n",
        "0.0.0) InitialConditions (Operation: Main.MyStudy.InitialConditions):\n",
        "0.0.0) ...Design variables have been updated.\n",
        "0.0.1) ...Load-time positions have been re-established.\n",
        "0.0.2) ...Kinematic analysis completed. The kinematic constraints have been resolved."
       ]
      },
      {
       "output_type": "stream",
       "stream": "stdout",
       "text": [
        "\n",
        "0.0.3) ...Initial conditions are fully updated.\n",
        "0) Inverse dynamic analysis...\n",
        "29) ...Inverse dynamic analysis completed\n",
        "Total simulation time: 0.042\n",
        "\n",
        "***************************************************************************************\n"
       ]
      },
      {
       "output_type": "stream",
       "stream": "stdout",
       "text": [
        "\n",
        "#### Macro command > exit\n",
        "\n",
        "Closing model...\n",
        "Saving modified values...\n",
        "Deleting last loaded model...\n",
        "...Model deleted.\n"
       ]
      }
     ],
     "prompt_number": 19
    },
    {
     "cell_type": "markdown",
     "metadata": {},
     "source": [
      "### Options:\n",
      "\n",
      "The command has a few option which are given on the same line eg. `%%anybody --out consoleouput`\n",
      "\n",
      "**`--dir c:/workdir `**  \n",
      "&nbsp;&nbsp; Changes the current directory\n",
      "\n",
      "**`--out ouputvar `**  \n",
      "&nbsp;&nbsp; Stores the console output to `outputvar`\n",
      "\n",
      "** `--bg`**  \n",
      "&nbsp;&nbsp; Run the macro commands in baground process. In this case the `-out` command will give a PIPE to console output.\n",
      "\n",
      "** `--dump`**  \n",
      "&nbsp;&nbsp; This will export variables to the IPython name space, which have been *Dumped* with macro classoperation \"Dump\"."
     ]
    },
    {
     "cell_type": "markdown",
     "metadata": {},
     "source": [
      "### Examples:\n"
     ]
    },
    {
     "cell_type": "code",
     "collapsed": false,
     "input": [
      "%%anybody --dir D:/Users/Morten/Desktop --dump\n",
      "load \"Knee.any\"\n",
      "operation Main.MyStudy.InverseDynamics\n",
      "run\n",
      "classoperation Main.MyStudy.Output.Abscissa.t \"Dump\"\n",
      "classoperation Main.MyStudy.Output.MaxMuscleActivity \"Dump\"\n",
      "run\n",
      "exit"
     ],
     "language": "python",
     "metadata": {},
     "outputs": [
      {
       "output_type": "stream",
       "stream": "stdout",
       "text": [
        "D:/Users/Morten/Desktop\n",
        "\n",
        "AnyBody Console Application\n",
        "Edition Name : Beta (Internal version)\n",
        "AnyBodyCon.exe version : 6. 0. 0. 3723\n",
        "Build : 15839.38520 (beta)\n",
        "Copyright (c) 1999 - 2013 AnyBody Technology A/S\n",
        "\n"
       ]
      },
      {
       "output_type": "stream",
       "stream": "stdout",
       "text": [
        "\n",
        "Current path: D:\\Users\\Morten\\Desktop\n"
       ]
      },
      {
       "output_type": "stream",
       "stream": "stdout",
       "text": [
        "\n",
        "#### Macro command > load \"Knee.any\"\n",
        "Loading  Main  :  \"D:\\Users\\Morten\\Desktop\\Knee.any\"\n",
        "Scanning...\n",
        "Parsing...\n",
        "Constructing model tree...\n",
        "Linking identifiers...\n",
        "Evaluating constants...\n",
        "Configuring model...\n",
        "Evaluating model...\n",
        "Loaded successfully.\n",
        "Elapsed Time : 0.025000\n"
       ]
      },
      {
       "output_type": "stream",
       "stream": "stdout",
       "text": [
        "\n",
        "#### Macro command > operation Main.MyStudy.InverseDynamics\n"
       ]
      },
      {
       "output_type": "stream",
       "stream": "stdout",
       "text": [
        "\n",
        "#### Macro command > run\n",
        "\n",
        "***************************************************************************************\n",
        "0) InverseDynamics (Operation: Main.MyStudy.InverseDynamics):\n",
        "0.0) PreOperation (Operation: Main.MyStudy.InverseDynamics.PreOperation):\n",
        "0.0.0) InitialConditions (Operation: Main.MyStudy.InitialConditions):\n",
        "0.0.0) ...Design variables have been updated.\n",
        "0.0.1) ...Load-time positions have been re-established.\n",
        "0.0.2) ...Kinematic analysis completed. The kinematic constraints have been resolved.\n",
        "0.0.3) ...Initial conditions are fully updated.\n",
        "0) Inverse dynamic analysis...\n",
        "29) ...Inverse dynamic analysis completed\n",
        "Total simulation time: 0.025\n",
        "\n",
        "***************************************************************************************\n"
       ]
      },
      {
       "output_type": "stream",
       "stream": "stdout",
       "text": [
        "\n",
        "#### Macro command > classoperation Main.MyStudy.Output.Abscissa.t \"Dump\"\n",
        "Main.MyStudy.Output.Abscissa.t = {0, 0.034482759, 0.068965517, 0.10344828, 0.13793103, 0.17241379, 0.20689655, 0.24137931, 0.27586207, 0.31034483, 0.34482759, 0.37931034, 0.4137931, 0.44827586, 0.48275862, 0.51724138, 0.55172414, 0.5862069, 0.62068966, 0.65517241, 0.68965517, 0.72413793, 0.75862069, 0.79310345, 0.82758621, 0.86206897, 0.89655172, 0.93103448, 0.96551724, 1};\n"
       ]
      },
      {
       "output_type": "stream",
       "stream": "stdout",
       "text": [
        "\n",
        "#### Macro command > classoperation Main.MyStudy.Output.MaxMuscleActivity \"Dump\"\n",
        "Main.MyStudy.Output.MaxMuscleActivity = {0.092329631, 0.093433752, 0.094336643, 0.095018911, 0.095461541, 0.095646103, 0.095554997, 0.0951717, 0.094481003, 0.093469228, 0.092124436, 0.090436596, 0.088397719, 0.086001951, 0.083245609, 0.08012716, 0.076647135, 0.072807963, 0.068613732, 0.064069855, 0.059182649, 0.053958793, 0.048404686, 0.04252565, 0.036324981, 0.029802794, 0.022954611, 0.015769599, 0.0082283486, 0.00029996798};\n",
        "\n",
        "#### Macro command > run\n",
        "\n",
        "***************************************************************************************\n",
        "0) InverseDynamics (Operation: Main.MyStudy.InverseDynamics):\n",
        "0.0) PreOperation (Operation: Main.MyStudy.InverseDynamics.PreOperation):\n",
        "0.0.0) InitialConditions (Operation: Main.MyStudy.InitialConditions):\n",
        "0.0.0) ...Design variables have been updated.\n",
        "0.0.1) ...Load-time positions have been re-established.\n",
        "0.0.2) ...Kinematic analysis completed. The kinematic constraints have been resolved."
       ]
      },
      {
       "output_type": "stream",
       "stream": "stdout",
       "text": [
        "\n",
        "0.0.3) ...Initial conditions are fully updated.\n",
        "0) Inverse dynamic analysis...\n",
        "29) ...Inverse dynamic analysis completed\n",
        "Total simulation time: 0.042\n",
        "\n",
        "***************************************************************************************\n"
       ]
      },
      {
       "output_type": "stream",
       "stream": "stdout",
       "text": [
        "\n",
        "#### Macro command > exit\n",
        "\n",
        "Closing model...\n",
        "Saving modified values...\n",
        "Deleting last loaded model...\n",
        "...Model deleted.\n",
        "\n",
        "\n",
        "***** Dumped variables: ******"
       ]
      },
      {
       "output_type": "stream",
       "stream": "stdout",
       "text": [
        "\n",
        "******************************\n",
        "Main_MyStudy_Output_Abscissa_t\n",
        "Main_MyStudy_Output_MaxMuscleActivity\n"
       ]
      }
     ],
     "prompt_number": 12
    },
    {
     "cell_type": "code",
     "collapsed": false,
     "input": [
      "plot(Main_MyStudy_Output_Abscissa_t, Main_MyStudy_Output_MaxMuscleActivity)\n",
      "xlabel('time')\n",
      "ylabel('Max muscle activity')"
     ],
     "language": "python",
     "metadata": {},
     "outputs": [
      {
       "metadata": {},
       "output_type": "pyout",
       "prompt_number": 13,
       "text": [
        "<matplotlib.text.Text at 0x7aa25c0>"
       ]
      },
      {
       "metadata": {},
       "output_type": "display_data",
       "png": "[encoded data removed]",
       "text": [
        "<matplotlib.figure.Figure at 0x79b4198>"
       ]
      }
     ],
     "prompt_number": 13
    },
    {
     "cell_type": "code",
     "collapsed": false,
     "input": [
      "%%anybody --bg --out outpipe\n",
      "load \"D:/Users/Morten/Desktop/Knee.any\"\n",
      "operation Main.MyStudy.InverseDynamics\n",
      "run\n",
      "classoperation Main.MyStudy.Output.Abscissa.t \"Dump\"\n",
      "classoperation Main.MyStudy.Output.MaxMuscleActivity \"Dump\"\n",
      "run\n",
      "exit"
     ],
     "language": "python",
     "metadata": {},
     "outputs": [
      {
       "output_type": "stream",
       "stream": "stdout",
       "text": [
        "Starting job # 7 in a separate thread.\n"
       ]
      }
     ],
     "prompt_number": 50
    },
    {
     "cell_type": "code",
     "collapsed": false,
     "input": [
      "lines = outpipe.readlines()\n",
      "print \"\".join(lines[-10:])"
     ],
     "language": "python",
     "metadata": {},
     "outputs": [
      {
       "output_type": "stream",
       "stream": "stdout",
       "text": [
        "Total simulation time: 0.042\r\n",
        "\r\n",
        "***************************************************************************************\r\n",
        "\r\n",
        "#### Macro command > exit\r\n",
        "\r\n",
        "Closing model...\r\n",
        "Saving modified values...\r\n",
        "Deleting last loaded model...\r\n",
        "...Model deleted.\r\n",
        "\n"
       ]
      }
     ],
     "prompt_number": 51
    }
   ],
   "metadata": {}
  }
 ]
}